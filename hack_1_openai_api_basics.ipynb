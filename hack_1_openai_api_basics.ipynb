{
 "cells": [
  {
   "cell_type": "markdown",
   "metadata": {},
   "source": [
    "# BCxP GenAI Hands-on Sessions\n",
    "## Part 1: OpenAI API Basics\n",
    "\n",
    "### Finde die passende Pizza\n",
    "\n",
    "Task: Ein Kunde soll basierend auf der Beschreibung einer Speise eine passende Bestelloption aus den vorgegebenen Speisen (definiert in menu.py) finden können. "
   ]
  },
  {
   "cell_type": "markdown",
   "metadata": {},
   "source": [
    "## Setup"
   ]
  },
  {
   "cell_type": "code",
   "execution_count": null,
   "metadata": {
    "vscode": {
     "languageId": "shellscript"
    }
   },
   "outputs": [],
   "source": [
    "# Install required packages\n",
    "%pip install openai sentence-transformers matplotlib scikit-learn umap-learn plotly faiss-cpu numpy tabulate pandas"
   ]
  },
  {
   "cell_type": "code",
   "execution_count": null,
   "metadata": {},
   "outputs": [],
   "source": [
    "from openai import OpenAI\n",
    "import json\n",
    "\n",
    "from hack_helpers import OPENAI_API_KEY\n",
    "from menu import MENU\n",
    "\n",
    "openai_client = OpenAI(api_key = OPENAI_API_KEY)"
   ]
  },
  {
   "cell_type": "markdown",
   "metadata": {},
   "source": [
    "### Verwendung von OpenAI API **ohne Structured Outputs**:\n",
    "\n",
    "\n",
    "Führe die nächste Zelle aus und beobachte die Ausgabe. Die Ausgabe ist Textbasiert - wie bei der Nutzung von ChatGPT über die Web- oder die Desktop App. Eine programmatische Verwendung des Outputs ist mit dieser 'unstrukturierten' Ausgabe ungeeignet. \n",
    "\n",
    "**Aufgabe:** Führe die nächste Zelle mehrmals aus und verändere den User-Input. Beobachte, wie sich das Format der Ausgabe immer wieder verändert.\n",
    "\n",
    "**Aufgabe:** Passe den System-Prompt an, um die Struktur der Ausgabe vorzugegeben (Beispielsweise \"Gib den Namen genau einer Speise an\"). Versuche dann den System-Prompt zu 'hacken' und mit einem beliebigen User-Input eine Ausgabe zu erhalten, die nicht der geforderten Struktur entspricht. Ist dies möglich? \n"
   ]
  },
  {
   "cell_type": "code",
   "execution_count": null,
   "metadata": {},
   "outputs": [],
   "source": [
    "# 🥡 Menü\n",
    "# for item in MENU:\n",
    "#     print(item)\n",
    "\n",
    "# 💬 Beispiel-Eingabe\n",
    "user_input = \"Ich möchte gerne etwas mit scharfer Salami oder Pilzen.\"\n",
    "\n",
    "# 🧠 API-Aufruf\n",
    "response = openai_client.responses.create(\n",
    "    model=\"gpt-4o\",\n",
    "    input=[\n",
    "        {\"role\": \"developer\", \"content\": \"Du bist ein digitaler Kellner. Wähle den passenden Eintrag aus der Speisekarte aus.\"},\n",
    "        {\"role\": \"user\", \"content\": f\"Speisekarte:\\n{json.dumps(MENU, ensure_ascii=False)}\\n\\nBestellung: {user_input}\"} # Hier übergeben wir die Speisekarte und die Bestellung\" \n",
    "    ],\n",
    ")\n",
    "\n",
    "# 📤 Ausgabe anzeigen\n",
    "print(response.output_text)\n"
   ]
  },
  {
   "cell_type": "markdown",
   "metadata": {},
   "source": [
    "### Verwendung von OpenAI API **mit Structured Outputs**:\n",
    "\n",
    "Mit _structured outputs_ kann sichergestellt werden, dass das Format der Ausgabe immer dem selben JSON Schema entspricht. JSON (JavaScript Object Notation) ist ein leichtgewichtiges, textbasiertes Format zur Darstellung strukturierter Daten. Es wird häufig in der Webentwicklung und bei APIs zur Übertragung von Daten zwischen Client und Server verwendet. \n",
    "\n",
    "**Aufgabe:** Mache Anpassungen, damit nur eine Speise für die Bestellung empfohlen wird. Welche Möglichkeiten gibt es dies zu realisieren (passe das Prompt oder das Schema an). Welche Vorteile/Nachteile gibt es jeweils bei den unterschiedlichen Ansätzen? Kannst du den 'Prompt-Hacking' Ansatz aus der vorherigen Aufgabe auch unter der Verwendung von _structured outputs_ reproduzieren? "
   ]
  },
  {
   "cell_type": "code",
   "execution_count": null,
   "metadata": {},
   "outputs": [],
   "source": [
    "\n",
    "import json\n",
    "\n",
    "# 💬 Beispiel-Eingabe\n",
    "# user_input = \"Ich habe Lust auf eine würzige Pizza mit Salami.\" # Input mit einer Option\n",
    "user_input = \"Ich hätte gerne etwas mit scharfer Salami oder Peperoni.\" # Input mit mehreren Optionen\n",
    "\n",
    "# JSON Schema für Ausgabe: Liste von Speisen, wobei eine Speise aus Id, Name, Beschreibung, Kategorie und Preis bestehen.\n",
    "menu_items_schema = {\n",
    "    \"type\": \"object\",\n",
    "    \"properties\": {\n",
    "        \"items\": {\n",
    "            \"type\": \"array\",\n",
    "            \"items\": {\n",
    "                \"type\": \"object\",\n",
    "                \"properties\": {\n",
    "                    \"id\": {\"type\": \"string\"},\n",
    "                    \"name\": {\"type\": \"string\"},\n",
    "                    \"description\": {\"type\": \"string\"},\n",
    "                    \"category\": {\"type\": \"string\"},\n",
    "                    \"price\": {\"type\": \"number\"},\n",
    "                },\n",
    "                \"required\": [\"id\", \"name\", \"description\", \"category\", \"price\"],\n",
    "                \"additionalProperties\": False,\n",
    "            },\n",
    "        }\n",
    "    },\n",
    "    \"required\": [\"items\"],\n",
    "    \"additionalProperties\": False,\n",
    "}\n",
    "\n",
    "# 🧠 API-Aufruf\n",
    "response = openai_client.responses.create(\n",
    "    model=\"gpt-4o\",\n",
    "    input=[\n",
    "        {\"role\": \"developer\", \"content\": \"Du bist ein digitaler Kellner. Wähle den passenden Eintrag aus der Speisekarte aus.\"},\n",
    "        {\"role\": \"user\", \"content\": f\"Speisekarte:\\n{json.dumps(MENU, ensure_ascii=False)}\\n\\nBestellung: {user_input}\"}\n",
    "    ],\n",
    "    # Gewünschtes Ausgabeformat wird API-Aufruff übergeben\n",
    "    text={\n",
    "        \"format\": {\n",
    "            \"type\": \"json_schema\",\n",
    "            \"name\": \"menu_item\",\n",
    "            \"schema\": menu_items_schema,\n",
    "            \"strict\": True\n",
    "        }\n",
    "    }\n",
    ")\n",
    "recommendations = json.loads(response.output_text)[\"items\"]\n",
    "\n",
    "# 📤 Nun können wir über Speiseempfehlung iterieren und diese beispielsweise Schritt für Schritt Anzeigen\n",
    "for item in recommendations:\n",
    "    print(item)\n"
   ]
  }
 ],
 "metadata": {
  "kernelspec": {
   "display_name": "Python 3",
   "language": "python",
   "name": "python3"
  },
  "language_info": {
   "codemirror_mode": {
    "name": "ipython",
    "version": 3
   },
   "file_extension": ".py",
   "mimetype": "text/x-python",
   "name": "python",
   "nbconvert_exporter": "python",
   "pygments_lexer": "ipython3",
   "version": "3.11.10"
  }
 },
 "nbformat": 4,
 "nbformat_minor": 2
}
