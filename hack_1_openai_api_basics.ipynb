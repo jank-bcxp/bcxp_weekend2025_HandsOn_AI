{
 "cells": [
  {
   "cell_type": "markdown",
   "metadata": {},
   "source": [
    "# Part 1: OpenAI API Basics\n",
    "\n",
    "## Finde die passende Pizza\n",
    "\n",
    "Task: Ein Kunde soll basierend auf der Beschreibung einer Speise eine passende Bestelloption aus den vorgegebenen Speisen finden können. "
   ]
  },
  {
   "cell_type": "markdown",
   "metadata": {},
   "source": [
    "## Setup"
   ]
  },
  {
   "cell_type": "code",
   "execution_count": null,
   "metadata": {},
   "outputs": [],
   "source": [
    "# Install required packages\n",
    "%pip install openai matplotlib scikit-learn umap-learn plotly faiss-cpu numpy tabulate pandas"
   ]
  },
  {
   "cell_type": "code",
   "execution_count": null,
   "metadata": {},
   "outputs": [
    {
     "name": "stdout",
     "output_type": "stream",
     "text": [
      "Requirement already satisfied: openai in /Users/pstoeckle/.pyenv/versions/3.11.10/lib/python3.11/site-packages (1.74.0)\n",
      "Requirement already satisfied: sentence-transformers in /Users/pstoeckle/.pyenv/versions/3.11.10/lib/python3.11/site-packages (4.1.0)\n",
      "Requirement already satisfied: matplotlib in /Users/pstoeckle/.pyenv/versions/3.11.10/lib/python3.11/site-packages (3.9.2)\n",
      "Requirement already satisfied: scikit-learn in /Users/pstoeckle/.pyenv/versions/3.11.10/lib/python3.11/site-packages (1.5.2)\n",
      "Requirement already satisfied: umap-learn in /Users/pstoeckle/.pyenv/versions/3.11.10/lib/python3.11/site-packages (0.5.7)\n",
      "Requirement already satisfied: plotly in /Users/pstoeckle/.pyenv/versions/3.11.10/lib/python3.11/site-packages (5.24.1)\n",
      "Requirement already satisfied: faiss-cpu in /Users/pstoeckle/.pyenv/versions/3.11.10/lib/python3.11/site-packages (1.10.0)\n",
      "Requirement already satisfied: numpy in /Users/pstoeckle/.pyenv/versions/3.11.10/lib/python3.11/site-packages (1.26.4)\n",
      "Requirement already satisfied: tabulate in /Users/pstoeckle/.pyenv/versions/3.11.10/lib/python3.11/site-packages (0.9.0)\n",
      "Requirement already satisfied: pandas in /Users/pstoeckle/.pyenv/versions/3.11.10/lib/python3.11/site-packages (2.2.3)\n",
      "Requirement already satisfied: anyio<5,>=3.5.0 in /Users/pstoeckle/.pyenv/versions/3.11.10/lib/python3.11/site-packages (from openai) (4.6.2.post1)\n",
      "Requirement already satisfied: distro<2,>=1.7.0 in /Users/pstoeckle/.pyenv/versions/3.11.10/lib/python3.11/site-packages (from openai) (1.9.0)\n",
      "Requirement already satisfied: httpx<1,>=0.23.0 in /Users/pstoeckle/.pyenv/versions/3.11.10/lib/python3.11/site-packages (from openai) (0.27.2)\n",
      "Requirement already satisfied: jiter<1,>=0.4.0 in /Users/pstoeckle/.pyenv/versions/3.11.10/lib/python3.11/site-packages (from openai) (0.9.0)\n",
      "Requirement already satisfied: pydantic<3,>=1.9.0 in /Users/pstoeckle/.pyenv/versions/3.11.10/lib/python3.11/site-packages (from openai) (2.11.3)\n",
      "Requirement already satisfied: sniffio in /Users/pstoeckle/.pyenv/versions/3.11.10/lib/python3.11/site-packages (from openai) (1.3.1)\n",
      "Requirement already satisfied: tqdm>4 in /Users/pstoeckle/.pyenv/versions/3.11.10/lib/python3.11/site-packages (from openai) (4.66.6)\n",
      "Requirement already satisfied: typing-extensions<5,>=4.11 in /Users/pstoeckle/.pyenv/versions/3.11.10/lib/python3.11/site-packages (from openai) (4.12.2)\n",
      "Requirement already satisfied: transformers<5.0.0,>=4.41.0 in /Users/pstoeckle/.pyenv/versions/3.11.10/lib/python3.11/site-packages (from sentence-transformers) (4.51.3)\n",
      "Requirement already satisfied: torch>=1.11.0 in /Users/pstoeckle/.pyenv/versions/3.11.10/lib/python3.11/site-packages (from sentence-transformers) (2.6.0)\n",
      "Requirement already satisfied: scipy in /Users/pstoeckle/.pyenv/versions/3.11.10/lib/python3.11/site-packages (from sentence-transformers) (1.14.1)\n",
      "Requirement already satisfied: huggingface-hub>=0.20.0 in /Users/pstoeckle/.pyenv/versions/3.11.10/lib/python3.11/site-packages (from sentence-transformers) (0.30.2)\n",
      "Requirement already satisfied: Pillow in /Users/pstoeckle/.pyenv/versions/3.11.10/lib/python3.11/site-packages (from sentence-transformers) (10.4.0)\n",
      "Requirement already satisfied: contourpy>=1.0.1 in /Users/pstoeckle/.pyenv/versions/3.11.10/lib/python3.11/site-packages (from matplotlib) (1.3.0)\n",
      "Requirement already satisfied: cycler>=0.10 in /Users/pstoeckle/.pyenv/versions/3.11.10/lib/python3.11/site-packages (from matplotlib) (0.12.1)\n",
      "Requirement already satisfied: fonttools>=4.22.0 in /Users/pstoeckle/.pyenv/versions/3.11.10/lib/python3.11/site-packages (from matplotlib) (4.54.1)\n",
      "Requirement already satisfied: kiwisolver>=1.3.1 in /Users/pstoeckle/.pyenv/versions/3.11.10/lib/python3.11/site-packages (from matplotlib) (1.4.7)\n",
      "Requirement already satisfied: packaging>=20.0 in /Users/pstoeckle/.pyenv/versions/3.11.10/lib/python3.11/site-packages (from matplotlib) (24.1)\n",
      "Requirement already satisfied: pyparsing>=2.3.1 in /Users/pstoeckle/.pyenv/versions/3.11.10/lib/python3.11/site-packages (from matplotlib) (3.1.4)\n",
      "Requirement already satisfied: python-dateutil>=2.7 in /Users/pstoeckle/.pyenv/versions/3.11.10/lib/python3.11/site-packages (from matplotlib) (2.9.0.post0)\n",
      "Requirement already satisfied: joblib>=1.2.0 in /Users/pstoeckle/.pyenv/versions/3.11.10/lib/python3.11/site-packages (from scikit-learn) (1.4.2)\n",
      "Requirement already satisfied: threadpoolctl>=3.1.0 in /Users/pstoeckle/.pyenv/versions/3.11.10/lib/python3.11/site-packages (from scikit-learn) (3.5.0)\n",
      "Requirement already satisfied: numba>=0.51.2 in /Users/pstoeckle/.pyenv/versions/3.11.10/lib/python3.11/site-packages (from umap-learn) (0.60.0)\n",
      "Requirement already satisfied: pynndescent>=0.5 in /Users/pstoeckle/.pyenv/versions/3.11.10/lib/python3.11/site-packages (from umap-learn) (0.5.13)\n",
      "Requirement already satisfied: tenacity>=6.2.0 in /Users/pstoeckle/.pyenv/versions/3.11.10/lib/python3.11/site-packages (from plotly) (9.0.0)\n",
      "Requirement already satisfied: pytz>=2020.1 in /Users/pstoeckle/.pyenv/versions/3.11.10/lib/python3.11/site-packages (from pandas) (2024.2)\n",
      "Requirement already satisfied: tzdata>=2022.7 in /Users/pstoeckle/.pyenv/versions/3.11.10/lib/python3.11/site-packages (from pandas) (2024.2)\n",
      "Requirement already satisfied: idna>=2.8 in /Users/pstoeckle/.pyenv/versions/3.11.10/lib/python3.11/site-packages (from anyio<5,>=3.5.0->openai) (3.10)\n",
      "Requirement already satisfied: certifi in /Users/pstoeckle/.pyenv/versions/3.11.10/lib/python3.11/site-packages (from httpx<1,>=0.23.0->openai) (2024.8.30)\n",
      "Requirement already satisfied: httpcore==1.* in /Users/pstoeckle/.pyenv/versions/3.11.10/lib/python3.11/site-packages (from httpx<1,>=0.23.0->openai) (1.0.6)\n",
      "Requirement already satisfied: h11<0.15,>=0.13 in /Users/pstoeckle/.pyenv/versions/3.11.10/lib/python3.11/site-packages (from httpcore==1.*->httpx<1,>=0.23.0->openai) (0.14.0)\n",
      "Requirement already satisfied: filelock in /Users/pstoeckle/.pyenv/versions/3.11.10/lib/python3.11/site-packages (from huggingface-hub>=0.20.0->sentence-transformers) (3.16.1)\n",
      "Requirement already satisfied: fsspec>=2023.5.0 in /Users/pstoeckle/.pyenv/versions/3.11.10/lib/python3.11/site-packages (from huggingface-hub>=0.20.0->sentence-transformers) (2024.10.0)\n",
      "Requirement already satisfied: pyyaml>=5.1 in /Users/pstoeckle/.pyenv/versions/3.11.10/lib/python3.11/site-packages (from huggingface-hub>=0.20.0->sentence-transformers) (6.0.2)\n",
      "Requirement already satisfied: requests in /Users/pstoeckle/.pyenv/versions/3.11.10/lib/python3.11/site-packages (from huggingface-hub>=0.20.0->sentence-transformers) (2.32.3)\n",
      "Requirement already satisfied: llvmlite<0.44,>=0.43.0dev0 in /Users/pstoeckle/.pyenv/versions/3.11.10/lib/python3.11/site-packages (from numba>=0.51.2->umap-learn) (0.43.0)\n",
      "Requirement already satisfied: annotated-types>=0.6.0 in /Users/pstoeckle/.pyenv/versions/3.11.10/lib/python3.11/site-packages (from pydantic<3,>=1.9.0->openai) (0.7.0)\n",
      "Requirement already satisfied: pydantic-core==2.33.1 in /Users/pstoeckle/.pyenv/versions/3.11.10/lib/python3.11/site-packages (from pydantic<3,>=1.9.0->openai) (2.33.1)\n",
      "Requirement already satisfied: typing-inspection>=0.4.0 in /Users/pstoeckle/.pyenv/versions/3.11.10/lib/python3.11/site-packages (from pydantic<3,>=1.9.0->openai) (0.4.0)\n",
      "Requirement already satisfied: six>=1.5 in /Users/pstoeckle/.pyenv/versions/3.11.10/lib/python3.11/site-packages (from python-dateutil>=2.7->matplotlib) (1.16.0)\n",
      "Requirement already satisfied: networkx in /Users/pstoeckle/.pyenv/versions/3.11.10/lib/python3.11/site-packages (from torch>=1.11.0->sentence-transformers) (3.4.2)\n",
      "Requirement already satisfied: jinja2 in /Users/pstoeckle/.pyenv/versions/3.11.10/lib/python3.11/site-packages (from torch>=1.11.0->sentence-transformers) (3.1.4)\n",
      "Requirement already satisfied: sympy==1.13.1 in /Users/pstoeckle/.pyenv/versions/3.11.10/lib/python3.11/site-packages (from torch>=1.11.0->sentence-transformers) (1.13.1)\n",
      "Requirement already satisfied: mpmath<1.4,>=1.1.0 in /Users/pstoeckle/.pyenv/versions/3.11.10/lib/python3.11/site-packages (from sympy==1.13.1->torch>=1.11.0->sentence-transformers) (1.3.0)\n",
      "Requirement already satisfied: regex!=2019.12.17 in /Users/pstoeckle/.pyenv/versions/3.11.10/lib/python3.11/site-packages (from transformers<5.0.0,>=4.41.0->sentence-transformers) (2024.11.6)\n",
      "Requirement already satisfied: tokenizers<0.22,>=0.21 in /Users/pstoeckle/.pyenv/versions/3.11.10/lib/python3.11/site-packages (from transformers<5.0.0,>=4.41.0->sentence-transformers) (0.21.1)\n",
      "Requirement already satisfied: safetensors>=0.4.3 in /Users/pstoeckle/.pyenv/versions/3.11.10/lib/python3.11/site-packages (from transformers<5.0.0,>=4.41.0->sentence-transformers) (0.5.3)\n",
      "Requirement already satisfied: MarkupSafe>=2.0 in /Users/pstoeckle/.pyenv/versions/3.11.10/lib/python3.11/site-packages (from jinja2->torch>=1.11.0->sentence-transformers) (2.1.5)\n",
      "Requirement already satisfied: charset-normalizer<4,>=2 in /Users/pstoeckle/.pyenv/versions/3.11.10/lib/python3.11/site-packages (from requests->huggingface-hub>=0.20.0->sentence-transformers) (3.3.2)\n",
      "Requirement already satisfied: urllib3<3,>=1.21.1 in /Users/pstoeckle/.pyenv/versions/3.11.10/lib/python3.11/site-packages (from requests->huggingface-hub>=0.20.0->sentence-transformers) (2.2.3)\n",
      "\n",
      "\u001b[1m[\u001b[0m\u001b[34;49mnotice\u001b[0m\u001b[1;39;49m]\u001b[0m\u001b[39;49m A new release of pip is available: \u001b[0m\u001b[31;49m24.0\u001b[0m\u001b[39;49m -> \u001b[0m\u001b[32;49m25.1.1\u001b[0m\n",
      "\u001b[1m[\u001b[0m\u001b[34;49mnotice\u001b[0m\u001b[1;39;49m]\u001b[0m\u001b[39;49m To update, run: \u001b[0m\u001b[32;49mpip install --upgrade pip\u001b[0m\n",
      "Note: you may need to restart the kernel to use updated packages.\n"
     ]
    }
   ],
   "source": [
    "# Import necessary libraries\n",
    "from openai import OpenAI\n",
    "import json\n",
    "import faiss\n",
    "import numpy as np\n",
    "import pandas as pd\n",
    "from sklearn.metrics.pairwise import cosine_similarity\n",
    "from typing import List, Dict\n",
    "import io\n",
    "\n",
    "# Download Menu\n",
    "import urllib.request\n",
    "import os.path\n",
    "MENU_URL = \"https://raw.githubusercontent.com/jank-bcxp/bcxp_weekend2025_HandsOn_AI/refs/heads/main/menu.py\"\n",
    "urllib.request.urlretrieve(MENU_URL, os.path.basename(MENU_URL))\n",
    "\n",
    "from menu import MENU\n",
    "\n",
    "# Initialize OpenAI client\n",
    "from google.colab import userdata\n",
    "openai_client = OpenAI(api_key= userdata.get('openai_api_key'))"
   ]
  },
  {
   "cell_type": "markdown",
   "metadata": {},
   "source": [
    "## Verwendung von OpenAI API **ohne Structured Outputs**\n",
    "\n",
    "\n",
    "Führe die nächste Zelle aus und beobachte die Ausgabe. Die Ausgabe ist Textbasiert - wie bei der Nutzung von ChatGPT über die Web- oder die Desktop App. Eine programmatische Verwendung des Outputs ist mit dieser 'unstrukturierten' Ausgabe ungeeignet. \n",
    "\n",
    "**Aufgabe:** Führe die nächste Zelle mehrmals aus und verändere den User-Input. Beobachte, wie sich das Format der Ausgabe immer wieder verändert.\n",
    "\n",
    "**Aufgabe:** Passe den System-Prompt an, um die Struktur der Ausgabe vorzugegeben (Beispielsweise \"Gib den Namen genau einer Speise an\"). Versuche dann den System-Prompt zu 'hacken' und mit einem beliebigen User-Input eine Ausgabe zu erhalten, die nicht der geforderten Struktur entspricht. Ist dies möglich? \n"
   ]
  },
  {
   "cell_type": "code",
   "execution_count": 1,
   "metadata": {},
   "outputs": [
    {
     "ename": "NameError",
     "evalue": "name 'openai_client' is not defined",
     "output_type": "error",
     "traceback": [
      "\u001b[0;31m---------------------------------------------------------------------------\u001b[0m",
      "\u001b[0;31mNameError\u001b[0m                                 Traceback (most recent call last)",
      "Cell \u001b[0;32mIn[1], line 9\u001b[0m\n\u001b[1;32m      6\u001b[0m user_input \u001b[38;5;241m=\u001b[39m \u001b[38;5;124m\"\u001b[39m\u001b[38;5;124mIch möchte gerne etwas mit scharfer Salami oder Pilzen.\u001b[39m\u001b[38;5;124m\"\u001b[39m\n\u001b[1;32m      8\u001b[0m \u001b[38;5;66;03m# 🧠 API-Aufruf\u001b[39;00m\n\u001b[0;32m----> 9\u001b[0m response \u001b[38;5;241m=\u001b[39m \u001b[43mopenai_client\u001b[49m\u001b[38;5;241m.\u001b[39mresponses\u001b[38;5;241m.\u001b[39mcreate(\n\u001b[1;32m     10\u001b[0m     model\u001b[38;5;241m=\u001b[39m\u001b[38;5;124m\"\u001b[39m\u001b[38;5;124mgpt-4o\u001b[39m\u001b[38;5;124m\"\u001b[39m,\n\u001b[1;32m     11\u001b[0m     \u001b[38;5;28minput\u001b[39m\u001b[38;5;241m=\u001b[39m[\n\u001b[1;32m     12\u001b[0m         {\u001b[38;5;124m\"\u001b[39m\u001b[38;5;124mrole\u001b[39m\u001b[38;5;124m\"\u001b[39m: \u001b[38;5;124m\"\u001b[39m\u001b[38;5;124mdeveloper\u001b[39m\u001b[38;5;124m\"\u001b[39m, \u001b[38;5;124m\"\u001b[39m\u001b[38;5;124mcontent\u001b[39m\u001b[38;5;124m\"\u001b[39m: \u001b[38;5;124m\"\u001b[39m\u001b[38;5;124mDu bist ein digitaler Kellner. Wähle den passenden Eintrag aus der Speisekarte aus.\u001b[39m\u001b[38;5;124m\"\u001b[39m},\n\u001b[1;32m     13\u001b[0m         {\u001b[38;5;124m\"\u001b[39m\u001b[38;5;124mrole\u001b[39m\u001b[38;5;124m\"\u001b[39m: \u001b[38;5;124m\"\u001b[39m\u001b[38;5;124muser\u001b[39m\u001b[38;5;124m\"\u001b[39m, \u001b[38;5;124m\"\u001b[39m\u001b[38;5;124mcontent\u001b[39m\u001b[38;5;124m\"\u001b[39m: \u001b[38;5;124mf\u001b[39m\u001b[38;5;124m\"\u001b[39m\u001b[38;5;124mSpeisekarte:\u001b[39m\u001b[38;5;130;01m\\n\u001b[39;00m\u001b[38;5;132;01m{\u001b[39;00mjson\u001b[38;5;241m.\u001b[39mdumps(MENU,\u001b[38;5;250m \u001b[39mensure_ascii\u001b[38;5;241m=\u001b[39m\u001b[38;5;28;01mFalse\u001b[39;00m)\u001b[38;5;132;01m}\u001b[39;00m\u001b[38;5;130;01m\\n\u001b[39;00m\u001b[38;5;130;01m\\n\u001b[39;00m\u001b[38;5;124mBestellung: \u001b[39m\u001b[38;5;132;01m{\u001b[39;00muser_input\u001b[38;5;132;01m}\u001b[39;00m\u001b[38;5;124m\"\u001b[39m} \u001b[38;5;66;03m# Hier übergeben wir die Speisekarte und die Bestellung\" \u001b[39;00m\n\u001b[1;32m     14\u001b[0m     ],\n\u001b[1;32m     15\u001b[0m )\n\u001b[1;32m     17\u001b[0m \u001b[38;5;66;03m# 📤 Ausgabe anzeigen\u001b[39;00m\n\u001b[1;32m     18\u001b[0m \u001b[38;5;28mprint\u001b[39m(response\u001b[38;5;241m.\u001b[39moutput_text)\n",
      "\u001b[0;31mNameError\u001b[0m: name 'openai_client' is not defined"
     ]
    }
   ],
   "source": [
    "# 🥡 Menü\n",
    "# for item in MENU:\n",
    "#     print(item)\n",
    "\n",
    "# 💬 Beispiel-Eingabe\n",
    "user_input = \"Ich möchte gerne etwas mit scharfer Salami oder Pilzen.\"\n",
    "\n",
    "# 🧠 API-Aufruf\n",
    "response = openai_client.responses.create(\n",
    "    model=\"gpt-4o\",\n",
    "    input=[\n",
    "        {\"role\": \"developer\", \"content\": \"Du bist ein digitaler Kellner. Wähle den passenden Eintrag aus der Speisekarte aus.\"},\n",
    "        {\"role\": \"user\", \"content\": f\"Speisekarte:\\n{json.dumps(MENU, ensure_ascii=False)}\\n\\nBestellung: {user_input}\"} # Hier übergeben wir die Speisekarte und die Bestellung\" \n",
    "    ],\n",
    ")\n",
    "\n",
    "# 📤 Ausgabe anzeigen\n",
    "print(response.output_text)\n"
   ]
  },
  {
   "cell_type": "markdown",
   "metadata": {},
   "source": [
    "## Verwendung von OpenAI API **mit Structured Outputs**:\n",
    "\n",
    "Mit _structured outputs_ kann sichergestellt werden, dass das Format der Ausgabe immer dem selben JSON Schema entspricht. JSON (JavaScript Object Notation) ist ein leichtgewichtiges, textbasiertes Format zur Darstellung strukturierter Daten. Es wird häufig in der Webentwicklung und bei APIs zur Übertragung von Daten zwischen Client und Server verwendet. \n",
    "\n",
    "**Aufgabe:** Mache Anpassungen, damit nur eine Speise für die Bestellung empfohlen wird. Welche Möglichkeiten gibt es dies zu realisieren (passe das Prompt oder das Schema an). Welche Vorteile/Nachteile gibt es jeweils bei den unterschiedlichen Ansätzen? Kannst du den 'Prompt-Hacking' Ansatz aus der vorherigen Aufgabe auch unter der Verwendung von _structured outputs_ reproduzieren? "
   ]
  },
  {
   "cell_type": "code",
   "execution_count": null,
   "metadata": {},
   "outputs": [],
   "source": [
    "\n",
    "import json\n",
    "\n",
    "# 💬 Beispiel-Eingabe\n",
    "# user_input = \"Ich habe Lust auf eine würzige Pizza mit Salami.\" # Input mit einer Option\n",
    "user_input = \"Ich hätte gerne etwas mit scharfer Salami oder Peperoni.\" # Input mit mehreren Optionen\n",
    "\n",
    "# JSON Schema für Ausgabe: Liste von Speisen, wobei eine Speise aus Id, Name, Beschreibung, Kategorie und Preis bestehen.\n",
    "menu_items_schema = {\n",
    "    \"type\": \"object\",\n",
    "    \"properties\": {\n",
    "        \"items\": {\n",
    "            \"type\": \"array\",\n",
    "            \"items\": {\n",
    "                \"type\": \"object\",\n",
    "                \"properties\": {\n",
    "                    \"id\": {\"type\": \"string\"},\n",
    "                    \"name\": {\"type\": \"string\"},\n",
    "                    \"description\": {\"type\": \"string\"},\n",
    "                    \"category\": {\"type\": \"string\"},\n",
    "                    \"price\": {\"type\": \"number\"},\n",
    "                },\n",
    "                \"required\": [\"id\", \"name\", \"description\", \"category\", \"price\"],\n",
    "                \"additionalProperties\": False,\n",
    "            },\n",
    "        }\n",
    "    },\n",
    "    \"required\": [\"items\"],\n",
    "    \"additionalProperties\": False,\n",
    "}\n",
    "\n",
    "# 🧠 API-Aufruf\n",
    "response = openai_client.responses.create(\n",
    "    model=\"gpt-4o\",\n",
    "    input=[\n",
    "        {\"role\": \"developer\", \"content\": \"Du bist ein digitaler Kellner. Wähle den passenden Eintrag aus der Speisekarte aus.\"},\n",
    "        {\"role\": \"user\", \"content\": f\"Speisekarte:\\n{json.dumps(MENU, ensure_ascii=False)}\\n\\nBestellung: {user_input}\"}\n",
    "    ],\n",
    "    # Gewünschtes Ausgabeformat wird API-Aufruf übergeben\n",
    "    text={\n",
    "        \"format\": {\n",
    "            \"type\": \"json_schema\",\n",
    "            \"name\": \"menu_item\",\n",
    "            \"schema\": menu_items_schema,\n",
    "            \"strict\": True\n",
    "        }\n",
    "    }\n",
    ")\n",
    "recommendations = json.loads(response.output_text)[\"items\"]\n",
    "\n",
    "# 📤 Nun können wir über Speiseempfehlung iterieren und diese beispielsweise Schritt für Schritt Anzeigen\n",
    "for item in recommendations:\n",
    "    print(item)\n"
   ]
  }
 ],
 "metadata": {
  "kernelspec": {
   "display_name": "Python 3",
   "language": "python",
   "name": "python3"
  },
  "language_info": {
   "codemirror_mode": {
    "name": "ipython",
    "version": 3
   },
   "file_extension": ".py",
   "mimetype": "text/x-python",
   "name": "python",
   "nbconvert_exporter": "python",
   "pygments_lexer": "ipython3",
   "version": "3.11.10"
  }
 },
 "nbformat": 4,
 "nbformat_minor": 2
}
