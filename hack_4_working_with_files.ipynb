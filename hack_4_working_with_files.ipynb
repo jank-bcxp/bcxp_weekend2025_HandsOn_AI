{
 "cells": [
  {
   "cell_type": "markdown",
   "metadata": {},
   "source": [
    "# Part 4: Working with Files\n",
    "\n",
    "## Finde die passende Pizza\n",
    "\n",
    "Task: Im Folgenden Szenario wird die Speisekarte von einer exteren Agentur erstellt und ist nur als PDF verfügbar. Im folgenden passen wir unseren digitalen Kellner so an, dass er mit der PDF Speisekarte arbeitet. "
   ]
  },
  {
   "cell_type": "markdown",
   "metadata": {},
   "source": [
    "## Setup"
   ]
  },
  {
   "cell_type": "code",
   "execution_count": null,
   "metadata": {},
   "outputs": [],
   "source": [
    "# Install required packages\n",
    "%pip install openai matplotlib scikit-learn umap-learn plotly faiss-cpu numpy tabulate pandas"
   ]
  },
  {
   "cell_type": "code",
   "execution_count": null,
   "metadata": {},
   "outputs": [],
   "source": [
    "# Import necessary libraries\n",
    "from openai import OpenAI\n",
    "import json\n",
    "import faiss\n",
    "import numpy as np\n",
    "import pandas as pd\n",
    "from sklearn.metrics.pairwise import cosine_similarity\n",
    "from typing import List, Dict\n",
    "import io\n",
    "\n",
    "# Download Menu\n",
    "import urllib.request\n",
    "import os.path\n",
    "MENU_URL = \"https://raw.githubusercontent.com/jank-bcxp/bcxp_weekend2025_HandsOn_AI/refs/heads/main/menu.py\"\n",
    "urllib.request.urlretrieve(MENU_URL, os.path.basename(MENU_URL))\n",
    "SPEISEKARTE_URL = \"https://raw.githubusercontent.com/jank-bcxp/bcxp_weekend2025_HandsOn_AI/refs/heads/main/speisekarte.pdf\"\n",
    "urllib.request.urlretrieve(SPEISEKARTE_URL, os.path.basename(SPEISEKARTE_URL))\n",
    "WOCHENKARTE_URL = \"https://raw.githubusercontent.com/jank-bcxp/bcxp_weekend2025_HandsOn_AI/refs/heads/main/wochenkarte.pdf\"\n",
    "urllib.request.urlretrieve(WOCHENKARTE_URL, os.path.basename(WOCHENKARTE_URL))\n",
    "\n",
    "from menu import MENU\n",
    "\n",
    "# Initialize OpenAI client\n",
    "from google.colab import userdata\n",
    "openai_client = OpenAI(api_key= userdata.get('openai_api_key'))"
   ]
  },
  {
   "cell_type": "markdown",
   "metadata": {},
   "source": [
    "## Verwendung von OpenAI API mit **Structured Outputs** und **Files** Input:\n",
    "\n",
    "Multimodale Modelle sind KI-Modelle, die Informationen aus verschiedenen Modalitäten – etwa Text, Bilder, Audio oder strukturierte Daten – gleichzeitig verarbeiten und kombinieren können. Das unterscheidet sie von klassischen Modellen, die nur mit einer einzigen Eingabemodalität (z. B. nur Text) umgehen können.\n",
    "\n",
    "GPT 4.1. beispielsweise kann multimodalen Input wie Text, PDFs oder Bilder verarbeiten. Im folgenden Beispiel verwenden wir `gpt-4.1` zur Verarbeitung eines Nutzer-Inputs *und* einer PDF-Datei (z. B. einer Speisekarte).\n",
    "\n",
    "**Aufgabe:** Neben Speisen für die Pizzeria soll der Kellner auch Speisen für das Restaurant \"Naherholungsgebiet\" in Stuttgart aufnehmen können. Erweitere den API Aufruf, sodass beide Speisekarten übergeben werden. Füge im Systemprompt den aktuellen Tag hinzu und mache Anpassungen, dass nur die für den Tag verfügbaren Speisen des Naherholungsgebiets berücksichtigt werden. Erweitere das Output-Schema so, dass auch das entsprechende Restaurant (\"Naherholungsgebite\" oder \"Salve\") in der Ausgabe enthalten sind. Finde Bestellungen für die Speisen aus beiden Restaurants empfohlen werden. Passe den Prompt wo nötig an. "
   ]
  },
  {
   "cell_type": "code",
   "execution_count": null,
   "metadata": {},
   "outputs": [],
   "source": [
    "import base64\n",
    "\n",
    "user_input = \"Ich habe Lust auf was mit Gorgonzola.\"\n",
    "\n",
    "with open(\"speisekarte.pdf\", \"rb\") as f:\n",
    "    data = f.read()\n",
    "speisekarte_base64_string = base64.b64encode(data).decode(\"utf-8\")\n",
    "\n",
    "menu_items_schema = {\n",
    "    \"type\": \"object\",\n",
    "    \"properties\": {\n",
    "        \"items\": {\n",
    "            \"type\": \"array\",\n",
    "            \"items\": {\n",
    "                \"type\": \"object\",\n",
    "                \"properties\": {\n",
    "                    \"id\": {\"type\": \"string\"},\n",
    "                    \"name\": {\"type\": \"string\"},\n",
    "                    \"description\": {\"type\": \"string\"},\n",
    "                    \"category\": {\"type\": \"string\"},\n",
    "                    \"price\": {\"type\": \"number\"},\n",
    "                },\n",
    "                \"required\": [\"id\", \"name\", \"description\", \"category\", \"price\"],\n",
    "                \"additionalProperties\": False,\n",
    "            },\n",
    "        }\n",
    "    },\n",
    "    \"required\": [\"items\"],\n",
    "    \"additionalProperties\": False,\n",
    "}\n",
    "\n",
    "# 🧠 API-Aufruf\n",
    "response = openai_client.responses.create(\n",
    "    model=\"gpt-4.1\",\n",
    "    input=[\n",
    "        {\n",
    "            \"role\": \"developer\",\n",
    "            \"content\": [\n",
    "                {\n",
    "                    \"type\": \"input_text\",\n",
    "                    \"text\": \"Du bist ein digitaler Kellner. Wähle passende Einträge aus der Speisekarte.\",\n",
    "                },\n",
    "            ],\n",
    "        },\n",
    "        {\n",
    "            \"role\": \"user\",\n",
    "            \"content\": [\n",
    "                {\n",
    "                    \"type\": \"input_file\",\n",
    "                    \"filename\": \"speisekarte.pdf\",\n",
    "                    \"file_data\": f\"data:application/pdf;base64,{speisekarte_base64_string}\",\n",
    "                },\n",
    "                {\n",
    "                    \"type\": \"input_text\",\n",
    "                    \"text\": f\"{user_input}\",\n",
    "                },\n",
    "            ],\n",
    "        }\n",
    "    ],\n",
    "    text={\n",
    "        \"format\": {\n",
    "            \"type\": \"json_schema\",\n",
    "            \"name\": \"menu_item\",\n",
    "            \"schema\": menu_items_schema,\n",
    "            \"strict\": True,\n",
    "        }\n",
    "    },\n",
    ")\n",
    "\n",
    "recommendations = json.loads(response.output_text)[\"items\"]\n",
    "\n",
    "# 📤 Ausgabe anzeigen\n",
    "for item in recommendations:\n",
    "    print(item)"
   ]
  }
 ],
 "metadata": {
  "kernelspec": {
   "display_name": "Python 3",
   "language": "python",
   "name": "python3"
  },
  "language_info": {
   "codemirror_mode": {
    "name": "ipython",
    "version": 3
   },
   "file_extension": ".py",
   "mimetype": "text/x-python",
   "name": "python",
   "nbconvert_exporter": "python",
   "pygments_lexer": "ipython3",
   "version": "3.11.10"
  }
 },
 "nbformat": 4,
 "nbformat_minor": 2
}
