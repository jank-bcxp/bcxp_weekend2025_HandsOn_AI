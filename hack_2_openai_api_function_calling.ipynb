{
 "cells": [
  {
   "cell_type": "markdown",
   "metadata": {},
   "source": [
    "# Part 2: OpenAI API Function Calling\n",
    "\n",
    "## Pizza Buchungssystem\n",
    "\n",
    "Task: Der digitale Kellner soll Bestellungen in einer Bestellapp registrieren können. Die Bestellapp stellt dazu eine Funktion \"add_item_to_order\" bereit. Diese bekommt als Parameter die Id eines Menueintrags übergeben und fügt den Menüeintrag dann zu einer Liste hinzu.  \n",
    "\n",
    "ChatGPT unterstützt sogenanntes Function Calling. Dabei erhält das Modell eine Beschreibung verfügbarer Funktionen inklusive ihrer Argumente. Basierend auf dem Nutzereingaben kann ChatGPT passende Funktionsaufrufe vorschlagen, die anschließend lokal ausgeführt werden können.\n",
    "\n",
    "Zwar lässt sich eine vergleichbare Funktionalität grundsätzlich auch über strukturierte Ausgaben realisieren, jedoch stellt Function Calling eine einfachere und standardisierte Methode dafür dar.\n",
    "\n",
    "**Aufgabe:** Erweitere die Funktionalität um eine Funktion \"remove_item_from_order\", welche die id eines bestelltem Items übergeben bekommt und dieses aus der Liste löscht. "
   ]
  },
  {
   "cell_type": "markdown",
   "metadata": {},
   "source": [
    "## Setup"
   ]
  },
  {
   "cell_type": "code",
   "execution_count": null,
   "metadata": {},
   "outputs": [],
   "source": [
    "# Install required packages\n",
    "%pip install openai sentence-transformers matplotlib scikit-learn umap-learn plotly faiss-cpu numpy tabulate pandas\n",
    "\n",
    "# Import necessary libraries\n",
    "from openai import OpenAI\n",
    "import json\n",
    "import faiss\n",
    "import numpy as np\n",
    "import pandas as pd\n",
    "from sklearn.metrics.pairwise import cosine_similarity\n",
    "from typing import List, Dict\n",
    "import io\n",
    "\n",
    "# Download Menu module und data\n",
    "import urllib.request\n",
    "import os.path\n",
    "MENU_URL = \"https://raw.githubusercontent.com/jank-bcxp/bcxp_weekend2025_HandsOn_AI/refs/heads/main/menu.py\"\n",
    "urllib.request.urlretrieve(MENU_URL, os.path.basename(MENU_URL))\n",
    "\n",
    "from menu import MENU\n",
    "\n",
    "# Initialize OpenAI client\n",
    "openai_client = OpenAI(api_key= \"\")"
   ]
  },
  {
   "cell_type": "markdown",
   "metadata": {},
   "source": [
    "## Function & Tool Definitions"
   ]
  },
  {
   "cell_type": "code",
   "execution_count": null,
   "metadata": {},
   "outputs": [],
   "source": [
    "from typing import List, Dict\n",
    "\n",
    "# Bestellung (als globale Liste)\n",
    "bestellung: List[Dict] = []\n",
    "\n",
    "def add_item_to_order(item_id: str):\n",
    "    item = next((entry for entry in MENU if entry[\"id\"] == item_id), None)\n",
    "    if item:\n",
    "        bestellung.append(item)\n",
    "        return f\"{item['name']} wurde zur Bestellung hinzugefügt.\"\n",
    "    return f\"Item mit ID {item_id} nicht gefunden.\""
   ]
  },
  {
   "cell_type": "code",
   "execution_count": null,
   "metadata": {},
   "outputs": [],
   "source": [
    "tools = [\n",
    "    {\n",
    "        \"type\": \"function\",\n",
    "        \"name\": \"add_item_to_order\",\n",
    "        \"description\": \"Fügt ein Item der Bestellung hinzu.\",\n",
    "        \"parameters\": {\n",
    "            \"type\": \"object\",\n",
    "            \"properties\": {\n",
    "                \"item_id\": {\n",
    "                    \"type\": \"string\",\n",
    "                    \"description\": \"Die ID des hinzuzufügenden Items.\",\n",
    "                }\n",
    "            },\n",
    "            \"required\": [\"item_id\"],\n",
    "        },\n",
    "    },\n",
    "]"
   ]
  },
  {
   "cell_type": "markdown",
   "metadata": {},
   "source": [
    "## Function Calling"
   ]
  },
  {
   "cell_type": "code",
   "execution_count": null,
   "metadata": {},
   "outputs": [],
   "source": [
    "import json\n",
    "from openai import OpenAI\n",
    "from hack_helpers import OPENAI_API_KEY\n",
    "\n",
    "client = OpenAI(api_key=OPENAI_API_KEY)\n",
    "\n",
    "def chat_with_waiter(user_input: str):\n",
    "    print(f\"👤 Input: {user_input}\")\n",
    "    # Erstellung der Eingabenachrichten\n",
    "    input_messages = [\n",
    "        {\n",
    "            \"role\": \"developer\",\n",
    "            \"content\": \"Du bist ein digitaler Kellner. Nimm Bestellungen auf und beantworte Fragen zum Menü.\",\n",
    "        },\n",
    "        {\n",
    "            \"role\": \"developer\",\n",
    "            \"content\": f\"Speisekarte:\\n{json.dumps(MENU, ensure_ascii=False)}\",\n",
    "        },\n",
    "        {\n",
    "            \"role\": \"user\",\n",
    "            \"content\": user_input,\n",
    "        },\n",
    "\n",
    "    ]\n",
    "\n",
    "    # API-Aufruf mit Function Calling\n",
    "    response = client.responses.create(\n",
    "        model=\"gpt-4o\", input=input_messages, tools=tools, tool_choice=\"auto\"\n",
    "    )\n",
    "\n",
    "    for tool_call in response.output:\n",
    "        if tool_call.type != \"function_call\":\n",
    "            print(f\"🤖 Antwort: {response.output_text}\")\n",
    "            continue\n",
    "\n",
    "        name = tool_call.name\n",
    "        args = json.loads(tool_call.arguments)\n",
    "\n",
    "        if name == \"add_item_to_order\":\n",
    "            result = add_item_to_order(args[\"item_id\"])\n",
    "        print(f\"🔧 Function Call: {name}({args}) ➜ {result}\")\n",
    "\n",
    "    # Anzeige der aktuellen Bestellung\n",
    "    print(\"📦 Aktuelle Bestellung:\")\n",
    "    for item in bestellung:\n",
    "        print(f\"- {item['name']} ({item['preis']} €)\")\n",
    "    print('-' * 40+'\\n')"
   ]
  },
  {
   "cell_type": "code",
   "execution_count": null,
   "metadata": {},
   "outputs": [],
   "source": [
    "chat_with_waiter(\"Wie geht es dir? \")\n",
    "chat_with_waiter(\"Ich möchte gerne eine Pizza Diavola und eine Cola bestellen.\")\n",
    "chat_with_waiter(\"Noch eine Cola bitte\")\n",
    "chat_with_waiter(\"Bitte entferne die Cola wieder.\")"
   ]
  }
 ],
 "metadata": {
  "kernelspec": {
   "display_name": "Python 3",
   "language": "python",
   "name": "python3"
  },
  "language_info": {
   "codemirror_mode": {
    "name": "ipython",
    "version": 3
   },
   "file_extension": ".py",
   "mimetype": "text/x-python",
   "name": "python",
   "nbconvert_exporter": "python",
   "pygments_lexer": "ipython3",
   "version": "3.11.10"
  }
 },
 "nbformat": 4,
 "nbformat_minor": 2
}
