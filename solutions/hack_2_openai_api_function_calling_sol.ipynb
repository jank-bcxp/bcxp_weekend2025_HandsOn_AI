{
 "cells": [
  {
   "cell_type": "markdown",
   "metadata": {},
   "source": [
    "# Part 2: OpenAI API Function Calling\n",
    "\n",
    "## Pizza Buchungssystem\n",
    "\n",
    "Task: Der digitale Kellner soll Bestellungen in einer Bestellapp registrieren können. Die Bestellapp stellt dazu eine Funktion \"add_item_to_order\" bereit. Diese bekommt als Parameter die Id eines Menueintrags übergeben und fügt den Menüeintrag dann zu einer Liste hinzu.  \n",
    "\n",
    "ChatGPT unterstützt sogenanntes Function Calling. Dabei erhält das Modell eine Beschreibung verfügbarer Funktionen inklusive ihrer Argumente. Basierend auf dem Nutzereingaben kann ChatGPT passende Funktionsaufrufe vorschlagen, die anschließend lokal ausgeführt werden können.\n",
    "\n",
    "Zwar lässt sich eine vergleichbare Funktionalität grundsätzlich auch über strukturierte Ausgaben realisieren, jedoch stellt Function Calling eine einfachere und standardisierte Methode dafür dar.\n",
    "\n",
    "**Aufgabe:** Erweitere die Funktionalität um eine Funktion \"remove_item_from_order\", welche die id eines bestelltem Items übergeben bekommt und dieses aus der Liste löscht. "
   ]
  },
  {
   "cell_type": "markdown",
   "metadata": {},
   "source": [
    "## Setup"
   ]
  },
  {
   "cell_type": "code",
   "execution_count": 11,
   "metadata": {},
   "outputs": [
    {
     "name": "stdout",
     "output_type": "stream",
     "text": [
      "Requirement already satisfied: openai in /Users/pstoeckle/.pyenv/versions/3.11.10/lib/python3.11/site-packages (1.74.0)\n",
      "Requirement already satisfied: matplotlib in /Users/pstoeckle/.pyenv/versions/3.11.10/lib/python3.11/site-packages (3.9.2)\n",
      "Requirement already satisfied: scikit-learn in /Users/pstoeckle/.pyenv/versions/3.11.10/lib/python3.11/site-packages (1.5.2)\n",
      "Requirement already satisfied: umap-learn in /Users/pstoeckle/.pyenv/versions/3.11.10/lib/python3.11/site-packages (0.5.7)\n",
      "Requirement already satisfied: plotly in /Users/pstoeckle/.pyenv/versions/3.11.10/lib/python3.11/site-packages (5.24.1)\n",
      "Requirement already satisfied: faiss-cpu in /Users/pstoeckle/.pyenv/versions/3.11.10/lib/python3.11/site-packages (1.10.0)\n",
      "Requirement already satisfied: numpy in /Users/pstoeckle/.pyenv/versions/3.11.10/lib/python3.11/site-packages (1.26.4)\n",
      "Requirement already satisfied: tabulate in /Users/pstoeckle/.pyenv/versions/3.11.10/lib/python3.11/site-packages (0.9.0)\n",
      "Requirement already satisfied: pandas in /Users/pstoeckle/.pyenv/versions/3.11.10/lib/python3.11/site-packages (2.2.3)\n",
      "Requirement already satisfied: anyio<5,>=3.5.0 in /Users/pstoeckle/.pyenv/versions/3.11.10/lib/python3.11/site-packages (from openai) (4.6.2.post1)\n",
      "Requirement already satisfied: distro<2,>=1.7.0 in /Users/pstoeckle/.pyenv/versions/3.11.10/lib/python3.11/site-packages (from openai) (1.9.0)\n",
      "Requirement already satisfied: httpx<1,>=0.23.0 in /Users/pstoeckle/.pyenv/versions/3.11.10/lib/python3.11/site-packages (from openai) (0.27.2)\n",
      "Requirement already satisfied: jiter<1,>=0.4.0 in /Users/pstoeckle/.pyenv/versions/3.11.10/lib/python3.11/site-packages (from openai) (0.9.0)\n",
      "Requirement already satisfied: pydantic<3,>=1.9.0 in /Users/pstoeckle/.pyenv/versions/3.11.10/lib/python3.11/site-packages (from openai) (2.11.3)\n",
      "Requirement already satisfied: sniffio in /Users/pstoeckle/.pyenv/versions/3.11.10/lib/python3.11/site-packages (from openai) (1.3.1)\n",
      "Requirement already satisfied: tqdm>4 in /Users/pstoeckle/.pyenv/versions/3.11.10/lib/python3.11/site-packages (from openai) (4.66.6)\n",
      "Requirement already satisfied: typing-extensions<5,>=4.11 in /Users/pstoeckle/.pyenv/versions/3.11.10/lib/python3.11/site-packages (from openai) (4.12.2)\n",
      "Requirement already satisfied: contourpy>=1.0.1 in /Users/pstoeckle/.pyenv/versions/3.11.10/lib/python3.11/site-packages (from matplotlib) (1.3.0)\n",
      "Requirement already satisfied: cycler>=0.10 in /Users/pstoeckle/.pyenv/versions/3.11.10/lib/python3.11/site-packages (from matplotlib) (0.12.1)\n",
      "Requirement already satisfied: fonttools>=4.22.0 in /Users/pstoeckle/.pyenv/versions/3.11.10/lib/python3.11/site-packages (from matplotlib) (4.54.1)\n",
      "Requirement already satisfied: kiwisolver>=1.3.1 in /Users/pstoeckle/.pyenv/versions/3.11.10/lib/python3.11/site-packages (from matplotlib) (1.4.7)\n",
      "Requirement already satisfied: packaging>=20.0 in /Users/pstoeckle/.pyenv/versions/3.11.10/lib/python3.11/site-packages (from matplotlib) (24.1)\n",
      "Requirement already satisfied: pillow>=8 in /Users/pstoeckle/.pyenv/versions/3.11.10/lib/python3.11/site-packages (from matplotlib) (10.4.0)\n",
      "Requirement already satisfied: pyparsing>=2.3.1 in /Users/pstoeckle/.pyenv/versions/3.11.10/lib/python3.11/site-packages (from matplotlib) (3.1.4)\n",
      "Requirement already satisfied: python-dateutil>=2.7 in /Users/pstoeckle/.pyenv/versions/3.11.10/lib/python3.11/site-packages (from matplotlib) (2.9.0.post0)\n",
      "Requirement already satisfied: scipy>=1.6.0 in /Users/pstoeckle/.pyenv/versions/3.11.10/lib/python3.11/site-packages (from scikit-learn) (1.14.1)\n",
      "Requirement already satisfied: joblib>=1.2.0 in /Users/pstoeckle/.pyenv/versions/3.11.10/lib/python3.11/site-packages (from scikit-learn) (1.4.2)\n",
      "Requirement already satisfied: threadpoolctl>=3.1.0 in /Users/pstoeckle/.pyenv/versions/3.11.10/lib/python3.11/site-packages (from scikit-learn) (3.5.0)\n",
      "Requirement already satisfied: numba>=0.51.2 in /Users/pstoeckle/.pyenv/versions/3.11.10/lib/python3.11/site-packages (from umap-learn) (0.60.0)\n",
      "Requirement already satisfied: pynndescent>=0.5 in /Users/pstoeckle/.pyenv/versions/3.11.10/lib/python3.11/site-packages (from umap-learn) (0.5.13)\n",
      "Requirement already satisfied: tenacity>=6.2.0 in /Users/pstoeckle/.pyenv/versions/3.11.10/lib/python3.11/site-packages (from plotly) (9.0.0)\n",
      "Requirement already satisfied: pytz>=2020.1 in /Users/pstoeckle/.pyenv/versions/3.11.10/lib/python3.11/site-packages (from pandas) (2024.2)\n",
      "Requirement already satisfied: tzdata>=2022.7 in /Users/pstoeckle/.pyenv/versions/3.11.10/lib/python3.11/site-packages (from pandas) (2024.2)\n",
      "Requirement already satisfied: idna>=2.8 in /Users/pstoeckle/.pyenv/versions/3.11.10/lib/python3.11/site-packages (from anyio<5,>=3.5.0->openai) (3.10)\n",
      "Requirement already satisfied: certifi in /Users/pstoeckle/.pyenv/versions/3.11.10/lib/python3.11/site-packages (from httpx<1,>=0.23.0->openai) (2024.8.30)\n",
      "Requirement already satisfied: httpcore==1.* in /Users/pstoeckle/.pyenv/versions/3.11.10/lib/python3.11/site-packages (from httpx<1,>=0.23.0->openai) (1.0.6)\n",
      "Requirement already satisfied: h11<0.15,>=0.13 in /Users/pstoeckle/.pyenv/versions/3.11.10/lib/python3.11/site-packages (from httpcore==1.*->httpx<1,>=0.23.0->openai) (0.14.0)\n",
      "Requirement already satisfied: llvmlite<0.44,>=0.43.0dev0 in /Users/pstoeckle/.pyenv/versions/3.11.10/lib/python3.11/site-packages (from numba>=0.51.2->umap-learn) (0.43.0)\n",
      "Requirement already satisfied: annotated-types>=0.6.0 in /Users/pstoeckle/.pyenv/versions/3.11.10/lib/python3.11/site-packages (from pydantic<3,>=1.9.0->openai) (0.7.0)\n",
      "Requirement already satisfied: pydantic-core==2.33.1 in /Users/pstoeckle/.pyenv/versions/3.11.10/lib/python3.11/site-packages (from pydantic<3,>=1.9.0->openai) (2.33.1)\n",
      "Requirement already satisfied: typing-inspection>=0.4.0 in /Users/pstoeckle/.pyenv/versions/3.11.10/lib/python3.11/site-packages (from pydantic<3,>=1.9.0->openai) (0.4.0)\n",
      "Requirement already satisfied: six>=1.5 in /Users/pstoeckle/.pyenv/versions/3.11.10/lib/python3.11/site-packages (from python-dateutil>=2.7->matplotlib) (1.16.0)\n",
      "\n",
      "\u001b[1m[\u001b[0m\u001b[34;49mnotice\u001b[0m\u001b[1;39;49m]\u001b[0m\u001b[39;49m A new release of pip is available: \u001b[0m\u001b[31;49m24.0\u001b[0m\u001b[39;49m -> \u001b[0m\u001b[32;49m25.1.1\u001b[0m\n",
      "\u001b[1m[\u001b[0m\u001b[34;49mnotice\u001b[0m\u001b[1;39;49m]\u001b[0m\u001b[39;49m To update, run: \u001b[0m\u001b[32;49mpip install --upgrade pip\u001b[0m\n",
      "Note: you may need to restart the kernel to use updated packages.\n"
     ]
    }
   ],
   "source": [
    "# Install required packages\n",
    "%pip install openai matplotlib scikit-learn umap-learn plotly faiss-cpu numpy tabulate pandas"
   ]
  },
  {
   "cell_type": "code",
   "execution_count": null,
   "metadata": {},
   "outputs": [],
   "source": [
    "# Import necessary libraries\n",
    "from openai import OpenAI\n",
    "import json\n",
    "import faiss\n",
    "import numpy as np\n",
    "import pandas as pd\n",
    "from sklearn.metrics.pairwise import cosine_similarity\n",
    "from typing import List, Dict\n",
    "import io\n",
    "\n",
    "# Download Menu module und data\n",
    "import urllib.request\n",
    "import os.path\n",
    "MENU_URL = \"https://raw.githubusercontent.com/jank-bcxp/bcxp_weekend2025_HandsOn_AI/refs/heads/main/menu.py\"\n",
    "urllib.request.urlretrieve(MENU_URL, os.path.basename(MENU_URL))\n",
    "\n",
    "from menu import MENU\n",
    "\n",
    "# Initialize OpenAI client\n",
    "from google.colab import userdata\n",
    "openai_client = OpenAI(api_key= userdata.get('openai_api_key'))"
   ]
  },
  {
   "cell_type": "markdown",
   "metadata": {},
   "source": [
    "## Function & Tool Definitions"
   ]
  },
  {
   "cell_type": "code",
   "execution_count": 13,
   "metadata": {},
   "outputs": [],
   "source": [
    "from typing import List, Dict\n",
    "\n",
    "# Bestellung (als globale Liste)\n",
    "bestellung: List[Dict] = []\n",
    "\n",
    "def add_item_to_order(item_id: str):\n",
    "    item = next((entry for entry in MENU if entry[\"id\"] == item_id), None)\n",
    "    if item:\n",
    "        bestellung.append(item)\n",
    "        return f\"{item['name']} wurde zur Bestellung hinzugefügt.\"\n",
    "    return f\"Item mit ID {item_id} nicht gefunden.\"\n",
    "\n",
    "def remove_item_from_order(item_id: str):\n",
    "    global bestellung\n",
    "    for idx, item in enumerate(bestellung):\n",
    "        if item[\"id\"] == item_id:\n",
    "            bestellung.pop(idx)\n",
    "            return f\"Item mit ID {item_id} wurde aus der Bestellung entfernt.\"\n",
    "    return f\"Item mit ID {item_id} war nicht in der Bestellung.\""
   ]
  },
  {
   "cell_type": "code",
   "execution_count": 14,
   "metadata": {},
   "outputs": [],
   "source": [
    "tools = [\n",
    "    {\n",
    "        \"type\": \"function\",\n",
    "        \"name\": \"add_item_to_order\",\n",
    "        \"description\": \"Fügt ein Item der Bestellung hinzu.\",\n",
    "        \"parameters\": {\n",
    "            \"type\": \"object\",\n",
    "            \"properties\": {\n",
    "                \"item_id\": {\n",
    "                    \"type\": \"string\",\n",
    "                    \"description\": \"Die ID des hinzuzufügenden Items.\",\n",
    "                }\n",
    "            },\n",
    "            \"required\": [\"item_id\"],\n",
    "        },\n",
    "    },\n",
    "    {\n",
    "        \"type\": \"function\",\n",
    "        \"name\": \"remove_item_from_order\",\n",
    "        \"description\": \"Entfernt ein Item aus der Bestellung.\",\n",
    "        \"parameters\": {\n",
    "            \"type\": \"object\",\n",
    "            \"properties\": {\n",
    "                \"item_id\": {\n",
    "                    \"type\": \"string\",\n",
    "                    \"description\": \"Die ID des zu entfernenden Items.\",\n",
    "                }\n",
    "            },\n",
    "            \"required\": [\"item_id\"],\n",
    "        },\n",
    "    },\n",
    "]"
   ]
  },
  {
   "cell_type": "markdown",
   "metadata": {},
   "source": [
    "## Function Calling"
   ]
  },
  {
   "cell_type": "code",
   "execution_count": 15,
   "metadata": {},
   "outputs": [],
   "source": [
    "def chat_with_waiter(user_input: str):\n",
    "    print(f\"👤 Input: {user_input}\")\n",
    "    # Erstellung der Eingabenachrichten\n",
    "    input_messages = [\n",
    "        {\n",
    "            \"role\": \"developer\",\n",
    "            \"content\": \"Du bist ein digitaler Kellner. Nimm Bestellungen auf und beantworte Fragen zum Menü.\",\n",
    "        },\n",
    "        {\n",
    "            \"role\": \"developer\",\n",
    "            \"content\": f\"Speisekarte:\\n{json.dumps(MENU, ensure_ascii=False)}\",\n",
    "        },\n",
    "        {\n",
    "            \"role\": \"user\",\n",
    "            \"content\": user_input,\n",
    "        },\n",
    "\n",
    "    ]\n",
    "\n",
    "    # API-Aufruf mit Function Calling\n",
    "    response = openai_client.responses.create(\n",
    "        model=\"gpt-4o\", input=input_messages, tools=tools, tool_choice=\"auto\"\n",
    "    )\n",
    "\n",
    "    for tool_call in response.output:\n",
    "        if tool_call.type != \"function_call\":\n",
    "            print(f\"🤖 Antwort: {response.output_text}\")\n",
    "            continue\n",
    "\n",
    "        name = tool_call.name\n",
    "        args = json.loads(tool_call.arguments)\n",
    "\n",
    "        if name == \"add_item_to_order\":\n",
    "            result = add_item_to_order(args[\"item_id\"])\n",
    "        elif name == \"remove_item_from_order\":\n",
    "            result = remove_item_from_order(args[\"item_id\"])\n",
    "        else:\n",
    "            result = \"Unbekannte Funktion\"\n",
    "        print(f\"🔧 Function Call: {name}({args}) ➜ {result}\")\n",
    "\n",
    "    # Anzeige der aktuellen Bestellung\n",
    "    print(\"📦 Aktuelle Bestellung:\")\n",
    "    for item in bestellung:\n",
    "        print(f\"- {item['name']} ({item['preis']} €)\")\n",
    "    print('-' * 40+'\\n')"
   ]
  },
  {
   "cell_type": "code",
   "execution_count": 16,
   "metadata": {},
   "outputs": [
    {
     "name": "stdout",
     "output_type": "stream",
     "text": [
      "👤 Input: Wie geht es dir? \n",
      "🤖 Antwort: Mir geht es großartig! Wie kann ich dir helfen? Möchtest du etwas von der Speisekarte bestellen oder hast du Fragen dazu?\n",
      "📦 Aktuelle Bestellung:\n",
      "----------------------------------------\n",
      "\n",
      "👤 Input: Ich möchte gerne eine Pizza Diavola und eine Cola bestellen.\n",
      "🔧 Function Call: add_item_to_order({'item_id': 'pizza_diavola'}) ➜ Pizza Diavola wurde zur Bestellung hinzugefügt.\n",
      "🔧 Function Call: add_item_to_order({'item_id': 'cola'}) ➜ Cola wurde zur Bestellung hinzugefügt.\n",
      "📦 Aktuelle Bestellung:\n",
      "- Pizza Diavola (10.0 €)\n",
      "- Cola (2.5 €)\n",
      "----------------------------------------\n",
      "\n",
      "👤 Input: Noch eine Cola bitte\n",
      "🔧 Function Call: add_item_to_order({'item_id': 'cola'}) ➜ Cola wurde zur Bestellung hinzugefügt.\n",
      "📦 Aktuelle Bestellung:\n",
      "- Pizza Diavola (10.0 €)\n",
      "- Cola (2.5 €)\n",
      "- Cola (2.5 €)\n",
      "----------------------------------------\n",
      "\n",
      "👤 Input: Bitte entferne die Cola wieder.\n",
      "🔧 Function Call: remove_item_from_order({'item_id': 'cola'}) ➜ Item mit ID cola wurde aus der Bestellung entfernt.\n",
      "📦 Aktuelle Bestellung:\n",
      "- Pizza Diavola (10.0 €)\n",
      "- Cola (2.5 €)\n",
      "----------------------------------------\n",
      "\n"
     ]
    }
   ],
   "source": [
    "chat_with_waiter(\"Wie geht es dir? \")\n",
    "chat_with_waiter(\"Ich möchte gerne eine Pizza Diavola und eine Cola bestellen.\")\n",
    "chat_with_waiter(\"Noch eine Cola bitte\")\n",
    "chat_with_waiter(\"Bitte entferne die Cola wieder.\")"
   ]
  }
 ],
 "metadata": {
  "kernelspec": {
   "display_name": "Python 3",
   "language": "python",
   "name": "python3"
  },
  "language_info": {
   "codemirror_mode": {
    "name": "ipython",
    "version": 3
   },
   "file_extension": ".py",
   "mimetype": "text/x-python",
   "name": "python",
   "nbconvert_exporter": "python",
   "pygments_lexer": "ipython3",
   "version": "3.11.10"
  }
 },
 "nbformat": 4,
 "nbformat_minor": 2
}
