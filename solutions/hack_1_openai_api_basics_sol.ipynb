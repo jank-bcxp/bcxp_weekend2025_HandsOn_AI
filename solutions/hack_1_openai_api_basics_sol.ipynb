{
 "cells": [
  {
   "cell_type": "markdown",
   "metadata": {},
   "source": [
    "# Part 1: OpenAI API Basics\n",
    "\n",
    "## Finde die passende Pizza\n",
    "\n",
    "Task: Ein Kunde soll basierend auf der Beschreibung einer Speise eine passende Bestelloption aus den vorgegebenen Speisen finden können. "
   ]
  },
  {
   "cell_type": "markdown",
   "metadata": {},
   "source": [
    "## Setup"
   ]
  },
  {
   "cell_type": "code",
   "execution_count": null,
   "metadata": {},
   "outputs": [],
   "source": [
    "# Install required packages\n",
    "%pip install openai matplotlib scikit-learn umap-learn plotly faiss-cpu numpy tabulate pandas"
   ]
  },
  {
   "cell_type": "code",
   "execution_count": null,
   "metadata": {},
   "outputs": [],
   "source": [
    "# Import necessary libraries\n",
    "from openai import OpenAI\n",
    "import json\n",
    "import faiss\n",
    "import numpy as np\n",
    "import pandas as pd\n",
    "from sklearn.metrics.pairwise import cosine_similarity\n",
    "from typing import List, Dict\n",
    "import io\n",
    "\n",
    "# Download Menu\n",
    "import urllib.request\n",
    "import os.path\n",
    "MENU_URL = \"https://raw.githubusercontent.com/jank-bcxp/bcxp_weekend2025_HandsOn_AI/refs/heads/main/menu.py\"\n",
    "urllib.request.urlretrieve(MENU_URL, os.path.basename(MENU_URL))\n",
    "\n",
    "from menu import MENU\n",
    "\n",
    "# Initialize OpenAI client\n",
    "from google.colab import userdata\n",
    "openai_client = OpenAI(api_key= userdata.get('openai_api_key'))"
   ]
  },
  {
   "cell_type": "markdown",
   "metadata": {},
   "source": [
    "## Verwendung von OpenAI API **ohne Structured Outputs**\n",
    "\n",
    "\n",
    "Führe die nächste Zelle aus und beobachte die Ausgabe. Die Ausgabe ist Textbasiert - wie bei der Nutzung von ChatGPT über die Web- oder die Desktop App. Eine programmatische Verwendung des Outputs ist mit dieser 'unstrukturierten' Ausgabe ungeeignet. \n",
    "\n",
    "**Aufgabe:** Führe die nächste Zelle mehrmals aus und verändere den User-Input. Beobachte, wie sich das Format der Ausgabe immer wieder verändert.\n",
    "\n",
    "**Aufgabe:** Passe den System-Prompt an, um die Struktur der Ausgabe vorzugegeben (Beispielsweise \"Gib den Namen genau einer Speise an\"). Versuche dann den System-Prompt zu 'hacken' und mit einem beliebigen User-Input eine Ausgabe zu erhalten, die nicht der geforderten Struktur entspricht. Ist dies möglich? \n"
   ]
  },
  {
   "cell_type": "code",
   "execution_count": null,
   "metadata": {},
   "outputs": [],
   "source": [
    "# 🥡 Menü\n",
    "# for item in MENU:\n",
    "#     print(item)\n",
    "\n",
    "# 💬 Beispiel-Eingabe\n",
    "user_input = \"Ich weiß nicht was ich bestellen soll. Welche vegetarischen Speisen kannst du empfehlen? Gib mir 3 Optionen!\"\n",
    "\n",
    "# 🧠 API-Aufruf\n",
    "response = openai_client.responses.create(\n",
    "    model=\"gpt-4o\",\n",
    "    input=[\n",
    "        {\n",
    "            \"role\": \"developer\",\n",
    "            \"content\": \"Du bist ein digitaler Kellner. Wähle den passenden Eintrag aus der Speisekarte aus. Gib genau einen Eintrag zurück. Wenn du nichts findest, sage 'None'\",\n",
    "        },\n",
    "        {\n",
    "            \"role\": \"user\",\n",
    "            \"content\": f\"Speisekarte:\\n{json.dumps(MENU, ensure_ascii=False)}\\n\\nBestellung: {user_input}\",\n",
    "        },  # Hier übergeben wir die Speisekarte und die Bestellung\"\n",
    "    ],\n",
    ")\n",
    "\n",
    "# 📤 Ausgabe anzeigen\n",
    "print(response.output_text)"
   ]
  },
  {
   "cell_type": "markdown",
   "metadata": {},
   "source": [
    "## Verwendung von OpenAI API **mit Structured Outputs**:\n",
    "\n",
    "Mit _structured outputs_ kann sichergestellt werden, dass das Format der Ausgabe immer dem selben JSON Schema entspricht. JSON (JavaScript Object Notation) ist ein leichtgewichtiges, textbasiertes Format zur Darstellung strukturierter Daten. Es wird häufig in der Webentwicklung und bei APIs zur Übertragung von Daten zwischen Client und Server verwendet. \n",
    "\n",
    "**Aufgabe:** Mache Anpassungen, damit nur eine Speise für die Bestellung empfohlen wird. Welche Möglichkeiten gibt es dies zu realisieren (passe das Prompt oder das Schema an). Welche Vorteile/Nachteile gibt es jeweils bei den unterschiedlichen Ansätzen? Kannst du den 'Prompt-Hacking' Ansatz aus der vorherigen Aufgabe auch unter der Verwendung von _structured outputs_ reproduzieren? "
   ]
  },
  {
   "cell_type": "code",
   "execution_count": 17,
   "metadata": {},
   "outputs": [
    {
     "name": "stdout",
     "output_type": "stream",
     "text": [
      "{'id': 'pizza_vegetariana', 'name': 'Pizza Vegetariana', 'description': 'Gemüse der Saison', 'category': 'Pizza', 'price': 9.5}\n"
     ]
    }
   ],
   "source": [
    "import json\n",
    "\n",
    "# 💬 Beispiel-Eingabe\n",
    "user_input = \"Ich weiß nicht was ich bestellen soll. Welche vegetarischen Speisen kannst du empfehlen? Gib mir 3 Optionen!\"\n",
    "\n",
    "# JSON Schema für Ausgabe: Liste von Speisen, wobei eine Speise aus Id, Name, Beschreibung, Kategorie und Preis bestehen.\n",
    "menu_items_schema = {\n",
    "    \"type\": \"object\",\n",
    "    \"properties\": {\n",
    "        \"items\": {\n",
    "            \"type\": \"array\",\n",
    "            \"items\": {\n",
    "                \"type\": \"object\",\n",
    "                \"properties\": {\n",
    "                    \"id\": {\"type\": \"string\"},\n",
    "                    \"name\": {\"type\": \"string\"},\n",
    "                    \"description\": {\"type\": \"string\"},\n",
    "                    \"category\": {\"type\": \"string\"},\n",
    "                    \"price\": {\"type\": \"number\"},\n",
    "                },\n",
    "                \"required\": [\"id\", \"name\", \"description\", \"category\", \"price\"],\n",
    "                \"additionalProperties\": False,\n",
    "            },\n",
    "        }\n",
    "    },\n",
    "    \"required\": [\"items\"],\n",
    "    \"additionalProperties\": False,\n",
    "}\n",
    "\n",
    "# 🧠 API-Aufruf\n",
    "response = openai_client.responses.create(\n",
    "    model=\"gpt-4o\",\n",
    "    input=[\n",
    "        {\"role\": \"developer\", \"content\": \"Du bist ein digitaler Kellner. Wähle den am besten passenden Eintrag aus der Speisekarte aus. Gib genau einen Eintrag zurück. Wenn du nichts findest, sage 'None'\"},\n",
    "        {\"role\": \"user\", \"content\": f\"Speisekarte:\\n{json.dumps(MENU, ensure_ascii=False)}\\n\\nBestellung: {user_input}\"}\n",
    "    ],\n",
    "    # Gewünschtes Ausgabeformat wird API-Aufruf übergeben\n",
    "    text={\n",
    "        \"format\": {\n",
    "            \"type\": \"json_schema\",\n",
    "            \"name\": \"menu_item\",\n",
    "            \"schema\": menu_items_schema,\n",
    "            \"strict\": True\n",
    "        }\n",
    "    }\n",
    ")\n",
    "recommendation = json.loads(response.output_text)[\"items\"][0]\n",
    "\n",
    "# 📤 Nun können wir über Speiseempfehlung iterieren und diese beispielsweise Schritt für Schritt Anzeigen\n",
    "print(recommendation)"
   ]
  }
 ],
 "metadata": {
  "kernelspec": {
   "display_name": "Python 3",
   "language": "python",
   "name": "python3"
  },
  "language_info": {
   "codemirror_mode": {
    "name": "ipython",
    "version": 3
   },
   "file_extension": ".py",
   "mimetype": "text/x-python",
   "name": "python",
   "nbconvert_exporter": "python",
   "pygments_lexer": "ipython3",
   "version": "3.11.10"
  }
 },
 "nbformat": 4,
 "nbformat_minor": 2
}
